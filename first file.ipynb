{
 "cells": [
  {
   "cell_type": "code",
   "execution_count": 29,
   "id": "12a14c20-8c80-4125-9040-dcef1ff60ac5",
   "metadata": {},
   "outputs": [],
   "source": [
    "import numpy as np\n",
    "import pandas as pd\n",
    "import seaborn as sns\n",
    "import matplotlib.pyplot as plt"
   ]
  },
  {
   "cell_type": "code",
   "execution_count": 24,
   "id": "82084efa-44ec-407d-a619-41b9b640124b",
   "metadata": {},
   "outputs": [],
   "source": [
    "df = pd.read_csv(\"train.csv\", encoding=\"ISO-8859-1\", on_bad_lines=\"skip\")\n"
   ]
  },
  {
   "cell_type": "code",
   "execution_count": 32,
   "id": "247c57c9-8026-4d4d-b7fd-b32b82124208",
   "metadata": {},
   "outputs": [
    {
     "data": {
      "text/plain": [
       "(6899, 6)"
      ]
     },
     "execution_count": 32,
     "metadata": {},
     "output_type": "execute_result"
    }
   ],
   "source": [
    "df.shape"
   ]
  },
  {
   "cell_type": "code",
   "execution_count": 33,
   "id": "1567a8b6-8d48-4928-8a7a-a89d2585e3a0",
   "metadata": {},
   "outputs": [
    {
     "data": {
      "text/html": [
       "<div>\n",
       "<style scoped>\n",
       "    .dataframe tbody tr th:only-of-type {\n",
       "        vertical-align: middle;\n",
       "    }\n",
       "\n",
       "    .dataframe tbody tr th {\n",
       "        vertical-align: top;\n",
       "    }\n",
       "\n",
       "    .dataframe thead th {\n",
       "        text-align: right;\n",
       "    }\n",
       "</style>\n",
       "<table border=\"1\" class=\"dataframe\">\n",
       "  <thead>\n",
       "    <tr style=\"text-align: right;\">\n",
       "      <th></th>\n",
       "      <th>id</th>\n",
       "      <th>qid1</th>\n",
       "      <th>qid2</th>\n",
       "      <th>question1</th>\n",
       "      <th>question2</th>\n",
       "      <th>is_duplicate</th>\n",
       "    </tr>\n",
       "  </thead>\n",
       "  <tbody>\n",
       "    <tr>\n",
       "      <th>0</th>\n",
       "      <td>0</td>\n",
       "      <td>1</td>\n",
       "      <td>2</td>\n",
       "      <td>What is the step by step guide to invest in sh...</td>\n",
       "      <td>What is the step by step guide to invest in sh...</td>\n",
       "      <td>0.0</td>\n",
       "    </tr>\n",
       "    <tr>\n",
       "      <th>1</th>\n",
       "      <td>1</td>\n",
       "      <td>3</td>\n",
       "      <td>4</td>\n",
       "      <td>What is the story of Kohinoor (Koh-i-Noor) Dia...</td>\n",
       "      <td>What would happen if the Indian government sto...</td>\n",
       "      <td>0.0</td>\n",
       "    </tr>\n",
       "    <tr>\n",
       "      <th>2</th>\n",
       "      <td>2</td>\n",
       "      <td>5</td>\n",
       "      <td>6</td>\n",
       "      <td>How can I increase the speed of my internet co...</td>\n",
       "      <td>How can Internet speed be increased by hacking...</td>\n",
       "      <td>0.0</td>\n",
       "    </tr>\n",
       "    <tr>\n",
       "      <th>3</th>\n",
       "      <td>3</td>\n",
       "      <td>7</td>\n",
       "      <td>8</td>\n",
       "      <td>Why am I mentally very lonely? How can I solve...</td>\n",
       "      <td>Find the remainder when [math]23^{24}[/math] i...</td>\n",
       "      <td>0.0</td>\n",
       "    </tr>\n",
       "    <tr>\n",
       "      <th>4</th>\n",
       "      <td>4</td>\n",
       "      <td>9</td>\n",
       "      <td>10</td>\n",
       "      <td>Which one dissolve in water quikly sugar, salt...</td>\n",
       "      <td>Which fish would survive in salt water?</td>\n",
       "      <td>0.0</td>\n",
       "    </tr>\n",
       "  </tbody>\n",
       "</table>\n",
       "</div>"
      ],
      "text/plain": [
       "   id  qid1  qid2                                          question1  \\\n",
       "0   0     1     2  What is the step by step guide to invest in sh...   \n",
       "1   1     3     4  What is the story of Kohinoor (Koh-i-Noor) Dia...   \n",
       "2   2     5     6  How can I increase the speed of my internet co...   \n",
       "3   3     7     8  Why am I mentally very lonely? How can I solve...   \n",
       "4   4     9    10  Which one dissolve in water quikly sugar, salt...   \n",
       "\n",
       "                                           question2  is_duplicate  \n",
       "0  What is the step by step guide to invest in sh...           0.0  \n",
       "1  What would happen if the Indian government sto...           0.0  \n",
       "2  How can Internet speed be increased by hacking...           0.0  \n",
       "3  Find the remainder when [math]23^{24}[/math] i...           0.0  \n",
       "4            Which fish would survive in salt water?           0.0  "
      ]
     },
     "execution_count": 33,
     "metadata": {},
     "output_type": "execute_result"
    }
   ],
   "source": [
    "df.head()"
   ]
  },
  {
   "cell_type": "code",
   "execution_count": 35,
   "id": "43ed414b-eb56-4e3e-a209-8f8b1f2d0ed4",
   "metadata": {},
   "outputs": [
    {
     "data": {
      "text/html": [
       "<div>\n",
       "<style scoped>\n",
       "    .dataframe tbody tr th:only-of-type {\n",
       "        vertical-align: middle;\n",
       "    }\n",
       "\n",
       "    .dataframe tbody tr th {\n",
       "        vertical-align: top;\n",
       "    }\n",
       "\n",
       "    .dataframe thead th {\n",
       "        text-align: right;\n",
       "    }\n",
       "</style>\n",
       "<table border=\"1\" class=\"dataframe\">\n",
       "  <thead>\n",
       "    <tr style=\"text-align: right;\">\n",
       "      <th></th>\n",
       "      <th>id</th>\n",
       "      <th>qid1</th>\n",
       "      <th>qid2</th>\n",
       "      <th>question1</th>\n",
       "      <th>question2</th>\n",
       "      <th>is_duplicate</th>\n",
       "    </tr>\n",
       "  </thead>\n",
       "  <tbody>\n",
       "    <tr>\n",
       "      <th>410</th>\n",
       "      <td>410</td>\n",
       "      <td>818</td>\n",
       "      <td>819</td>\n",
       "      <td>How much does your DNA change over time? If I ...</td>\n",
       "      <td>How much can a person's DNA change from birth ...</td>\n",
       "      <td>1.0</td>\n",
       "    </tr>\n",
       "    <tr>\n",
       "      <th>2809</th>\n",
       "      <td>2809</td>\n",
       "      <td>5573</td>\n",
       "      <td>5574</td>\n",
       "      <td>When will China become a democratic country?</td>\n",
       "      <td>Is China a democratic country?</td>\n",
       "      <td>0.0</td>\n",
       "    </tr>\n",
       "    <tr>\n",
       "      <th>6820</th>\n",
       "      <td>6820</td>\n",
       "      <td>13348</td>\n",
       "      <td>13349</td>\n",
       "      <td>Where Can My Business Capital injection Come F...</td>\n",
       "      <td>From where can my capital injection originate?</td>\n",
       "      <td>1.0</td>\n",
       "    </tr>\n",
       "    <tr>\n",
       "      <th>5098</th>\n",
       "      <td>5098</td>\n",
       "      <td>10046</td>\n",
       "      <td>10047</td>\n",
       "      <td>What are the advantages and disadvantages of w...</td>\n",
       "      <td>What are the advantages and disadvantages of w...</td>\n",
       "      <td>1.0</td>\n",
       "    </tr>\n",
       "    <tr>\n",
       "      <th>3412</th>\n",
       "      <td>3412</td>\n",
       "      <td>6763</td>\n",
       "      <td>6764</td>\n",
       "      <td>What is the best MongoDB ORM for node.js?</td>\n",
       "      <td>What's the best MongoDB ORM for Python?</td>\n",
       "      <td>0.0</td>\n",
       "    </tr>\n",
       "    <tr>\n",
       "      <th>1133</th>\n",
       "      <td>1133</td>\n",
       "      <td>2258</td>\n",
       "      <td>2259</td>\n",
       "      <td>How long is the recovery time after wisdom tee...</td>\n",
       "      <td>Why is it important to rinse with salt water a...</td>\n",
       "      <td>0.0</td>\n",
       "    </tr>\n",
       "    <tr>\n",
       "      <th>2207</th>\n",
       "      <td>2207</td>\n",
       "      <td>4391</td>\n",
       "      <td>4392</td>\n",
       "      <td>What are the best workout songs?</td>\n",
       "      <td>Which are the best workout songs?</td>\n",
       "      <td>1.0</td>\n",
       "    </tr>\n",
       "    <tr>\n",
       "      <th>4794</th>\n",
       "      <td>4794</td>\n",
       "      <td>9466</td>\n",
       "      <td>9467</td>\n",
       "      <td>Where is the Baraka River located, and how doe...</td>\n",
       "      <td>Where is the Baraka River located, and how doe...</td>\n",
       "      <td>0.0</td>\n",
       "    </tr>\n",
       "    <tr>\n",
       "      <th>2011</th>\n",
       "      <td>2011</td>\n",
       "      <td>4001</td>\n",
       "      <td>4002</td>\n",
       "      <td>What does Java do and do I need it?</td>\n",
       "      <td>Do I need Java on my computer?</td>\n",
       "      <td>1.0</td>\n",
       "    </tr>\n",
       "    <tr>\n",
       "      <th>608</th>\n",
       "      <td>608</td>\n",
       "      <td>1214</td>\n",
       "      <td>1215</td>\n",
       "      <td>Can World War 3 ever take place?</td>\n",
       "      <td>Is World War 3 more imminent than expected?</td>\n",
       "      <td>1.0</td>\n",
       "    </tr>\n",
       "  </tbody>\n",
       "</table>\n",
       "</div>"
      ],
      "text/plain": [
       "        id   qid1   qid2                                          question1  \\\n",
       "410    410    818    819  How much does your DNA change over time? If I ...   \n",
       "2809  2809   5573   5574       When will China become a democratic country?   \n",
       "6820  6820  13348  13349  Where Can My Business Capital injection Come F...   \n",
       "5098  5098  10046  10047  What are the advantages and disadvantages of w...   \n",
       "3412  3412   6763   6764          What is the best MongoDB ORM for node.js?   \n",
       "1133  1133   2258   2259  How long is the recovery time after wisdom tee...   \n",
       "2207  2207   4391   4392                   What are the best workout songs?   \n",
       "4794  4794   9466   9467  Where is the Baraka River located, and how doe...   \n",
       "2011  2011   4001   4002                What does Java do and do I need it?   \n",
       "608    608   1214   1215                   Can World War 3 ever take place?   \n",
       "\n",
       "                                              question2  is_duplicate  \n",
       "410   How much can a person's DNA change from birth ...           1.0  \n",
       "2809                     Is China a democratic country?           0.0  \n",
       "6820     From where can my capital injection originate?           1.0  \n",
       "5098  What are the advantages and disadvantages of w...           1.0  \n",
       "3412            What's the best MongoDB ORM for Python?           0.0  \n",
       "1133  Why is it important to rinse with salt water a...           0.0  \n",
       "2207                  Which are the best workout songs?           1.0  \n",
       "4794  Where is the Baraka River located, and how doe...           0.0  \n",
       "2011                     Do I need Java on my computer?           1.0  \n",
       "608         Is World War 3 more imminent than expected?           1.0  "
      ]
     },
     "execution_count": 35,
     "metadata": {},
     "output_type": "execute_result"
    }
   ],
   "source": [
    "df.sample(10)"
   ]
  },
  {
   "cell_type": "code",
   "execution_count": 34,
   "id": "13cf0640-437f-43b0-b198-d0d8c53f92c0",
   "metadata": {},
   "outputs": [
    {
     "name": "stdout",
     "output_type": "stream",
     "text": [
      "<class 'pandas.core.frame.DataFrame'>\n",
      "RangeIndex: 6899 entries, 0 to 6898\n",
      "Data columns (total 6 columns):\n",
      " #   Column        Non-Null Count  Dtype  \n",
      "---  ------        --------------  -----  \n",
      " 0   id            6899 non-null   int64  \n",
      " 1   qid1          6899 non-null   int64  \n",
      " 2   qid2          6899 non-null   int64  \n",
      " 3   question1     6899 non-null   object \n",
      " 4   question2     6899 non-null   object \n",
      " 5   is_duplicate  6898 non-null   float64\n",
      "dtypes: float64(1), int64(3), object(2)\n",
      "memory usage: 323.5+ KB\n"
     ]
    }
   ],
   "source": [
    "df.info()"
   ]
  },
  {
   "cell_type": "code",
   "execution_count": 36,
   "id": "ffe480c3-ea88-4e38-8939-fb45d38a54f2",
   "metadata": {},
   "outputs": [
    {
     "data": {
      "text/plain": [
       "id              0\n",
       "qid1            0\n",
       "qid2            0\n",
       "question1       0\n",
       "question2       0\n",
       "is_duplicate    1\n",
       "dtype: int64"
      ]
     },
     "execution_count": 36,
     "metadata": {},
     "output_type": "execute_result"
    }
   ],
   "source": [
    "#missing values\n",
    "df.isnull().sum()"
   ]
  },
  {
   "cell_type": "code",
   "execution_count": 37,
   "id": "069df719-bd4e-476c-9ff1-2e17c2d1d92d",
   "metadata": {},
   "outputs": [
    {
     "data": {
      "text/plain": [
       "0"
      ]
     },
     "execution_count": 37,
     "metadata": {},
     "output_type": "execute_result"
    }
   ],
   "source": [
    "#duplicate rows\n",
    "df.duplicated().sum()"
   ]
  },
  {
   "cell_type": "code",
   "execution_count": 40,
   "id": "204011a1-59a8-4517-a853-0abae6e143e5",
   "metadata": {},
   "outputs": [
    {
     "name": "stdout",
     "output_type": "stream",
     "text": [
      "is_duplicate\n",
      "0.0    4301\n",
      "1.0    2597\n",
      "Name: count, dtype: int64\n",
      "is_duplicate\n",
      "0.0    62.351406\n",
      "1.0    37.648594\n",
      "Name: count, dtype: float64\n"
     ]
    },
    {
     "data": {
      "text/plain": [
       "<Axes: xlabel='is_duplicate'>"
      ]
     },
     "execution_count": 40,
     "metadata": {},
     "output_type": "execute_result"
    },
    {
     "data": {
      "image/png": "[encoded data removed]",
      "text/plain": [
       "<Figure size 640x480 with 1 Axes>"
      ]
     },
     "metadata": {},
     "output_type": "display_data"
    }
   ],
   "source": [
    "#Number of Questions Duplicates and Number of Questions Duplicates\n",
    "print(df['is_duplicate'].value_counts())\n",
    "print((df['is_duplicate'].value_counts()/df['is_duplicate'].count())*100)\n",
    "df['is_duplicate'].value_counts().plot(kind='bar')"
   ]
  },
  {
   "cell_type": "code",
   "execution_count": 41,
   "id": "bd3a5068-527e-4fd3-98a8-0009b4891abe",
   "metadata": {},
   "outputs": [
    {
     "name": "stdout",
     "output_type": "stream",
     "text": [
      "Number of unique questions 13501\n",
      "Number of questions getting repeated 281\n"
     ]
    }
   ],
   "source": [
    "# Repeated questions- Question1 + Question 2\n",
    "\n",
    "qid = pd.Series(df['qid1'].tolist() + df['qid2'].tolist())\n",
    "print('Number of unique questions',np.unique(qid).shape[0])\n",
    "x = qid.value_counts()>1\n",
    "print('Number of questions getting repeated',x[x].shape[0])"
   ]
  },
  {
   "cell_type": "code",
   "execution_count": 42,
   "id": "90352431-0c61-4ef7-9098-814905a43dcc",
   "metadata": {},
   "outputs": [
    {
     "data": {
      "image/png": "[encoded data removed]",
      "text/plain": [
       "<Figure size 640x480 with 1 Axes>"
      ]
     },
     "metadata": {},
     "output_type": "display_data"
    }
   ],
   "source": [
    "# Repeated questions histogram\n",
    "plt.hist(qid.value_counts().values,bins=160)\n",
    "plt.yscale('log')\n",
    "plt.show()"
   ]
  },
  {
   "cell_type": "code",
   "execution_count": null,
   "id": "7642d360-d342-42bc-b562-c95e106160d6",
   "metadata": {},
   "outputs": [],
   "source": []
  }
 ],
 "metadata": {
  "kernelspec": {
   "display_name": "Python 3 (ipykernel)",
   "language": "python",
   "name": "python3"
  },
  "language_info": {
   "codemirror_mode": {
    "name": "ipython",
    "version": 3
   },
   "file_extension": ".py",
   "mimetype": "text/x-python",
   "name": "python",
   "nbconvert_exporter": "python",
   "pygments_lexer": "ipython3",
   "version": "3.11.7"
  }
 },
 "nbformat": 4,
 "nbformat_minor": 5
}
